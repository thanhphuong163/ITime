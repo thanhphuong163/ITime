{
 "cells": [
  {
   "cell_type": "code",
   "execution_count": 1,
   "metadata": {},
   "outputs": [],
   "source": [
    "import os\n",
    "import sys\n",
    "import glob\n",
    "import copy\n",
    "import json\n",
    "import scipy\n",
    "import numpy as np\n",
    "import pandas as pd\n",
    "import seaborn as sns\n",
    "import matplotlib as mpl\n",
    "import matplotlib.pyplot as plt\n",
    "import datetime\n",
    "from datetime import datetime\n",
    "from sklearn.preprocessing import StandardScaler, MinMaxScaler\n",
    "from sklearn.metrics import roc_auc_score\n",
    "# import ipywidgets as widgets\n",
    "# import bqplot.pyplot as bqplt\n",
    "# from tqdm.notebook import tqdm\n",
    "from IPython.core.interactiveshell import InteractiveShell\n",
    "import warnings\n",
    "from pandas.core.common import SettingWithCopyWarning\n",
    "warnings.simplefilter(action=\"ignore\", category=SettingWithCopyWarning)\n",
    "# import tensorflow as tf\n",
    "# ['all', 'last', 'last_expr', 'none', 'last_expr_or_assign']\n",
    "InteractiveShell.ast_node_interactivity = \"last\"\n",
    "# matplotlib configuration\n",
    "mpl.rcParams['grid.color'] = 'k'\n",
    "mpl.rcParams['grid.linestyle'] = ':'\n",
    "mpl.rcParams['grid.linewidth'] = 0.5\n",
    "mpl.rcParams['font.size'] = 12\n",
    "# plt.style.use(['dark_background'])\n",
    "# pd.set_option('display.max_rows', None)\n",
    "# pd.set_option('display.max_columns', None)\n",
    "# pd.set_option('display.max_colwidth', None)\n"
   ]
  },
  {
   "cell_type": "markdown",
   "metadata": {},
   "source": [
    "Column 1: acceleration from the chest sensor (X axis)\n",
    "Column 2: acceleration from the chest sensor (Y axis)\n",
    "Column 3: acceleration from the chest sensor (Z axis)\n",
    "Column 4: electrocardiogram signal (lead 1) \n",
    "Column 5: electrocardiogram signal (lead 2)\n",
    "Column 6: acceleration from the left-ankle sensor (X axis)\n",
    "Column 7: acceleration from the left-ankle sensor (Y axis)\n",
    "Column 8: acceleration from the left-ankle sensor (Z axis)\n",
    "Column 9: gyro from the left-ankle sensor (X axis)\n",
    "Column 10: gyro from the left-ankle sensor (Y axis)\n",
    "Column 11: gyro from the left-ankle sensor (Z axis)\n",
    "Column 13: magnetometer from the left-ankle sensor (X axis)\n",
    "Column 13: magnetometer from the left-ankle sensor (Y axis)\n",
    "Column 14: magnetometer from the left-ankle sensor (Z axis)\n",
    "Column 15: acceleration from the right-lower-arm sensor (X axis)\n",
    "Column 16: acceleration from the right-lower-arm sensor (Y axis)\n",
    "Column 17: acceleration from the right-lower-arm sensor (Z axis)\n",
    "Column 18: gyro from the right-lower-arm sensor (X axis)\n",
    "Column 19: gyro from the right-lower-arm sensor (Y axis)\n",
    "Column 20: gyro from the right-lower-arm sensor (Z axis)\n",
    "Column 21: magnetometer from the right-lower-arm sensor (X axis)\n",
    "Column 22: magnetometer from the right-lower-arm sensor (Y axis)\n",
    "Column 23: magnetometer from the right-lower-arm sensor (Z axis)\n",
    "Column 24: Label (0 for the null class)"
   ]
  },
  {
   "cell_type": "code",
   "execution_count": 2,
   "metadata": {},
   "outputs": [
    {
     "data": {
      "text/html": [
       "<div>\n",
       "<style scoped>\n",
       "    .dataframe tbody tr th:only-of-type {\n",
       "        vertical-align: middle;\n",
       "    }\n",
       "\n",
       "    .dataframe tbody tr th {\n",
       "        vertical-align: top;\n",
       "    }\n",
       "\n",
       "    .dataframe thead th {\n",
       "        text-align: right;\n",
       "    }\n",
       "</style>\n",
       "<table border=\"1\" class=\"dataframe\">\n",
       "  <thead>\n",
       "    <tr style=\"text-align: right;\">\n",
       "      <th></th>\n",
       "      <th>acc_lankle_x</th>\n",
       "      <th>acc_lankle_y</th>\n",
       "      <th>acc_lankle_z</th>\n",
       "      <th>gyro_lankle_x</th>\n",
       "      <th>gyro_lankle_y</th>\n",
       "      <th>gyro_lankle_z</th>\n",
       "      <th>mag_lankle_x</th>\n",
       "      <th>mag_lankle_y</th>\n",
       "      <th>mag_lankle_z</th>\n",
       "    </tr>\n",
       "  </thead>\n",
       "  <tbody>\n",
       "    <tr>\n",
       "      <th>0</th>\n",
       "      <td>-3.95080</td>\n",
       "      <td>-19.1540</td>\n",
       "      <td>12.2940</td>\n",
       "      <td>0.59740</td>\n",
       "      <td>-0.74109</td>\n",
       "      <td>-0.38114</td>\n",
       "      <td>118.880</td>\n",
       "      <td>-71.831</td>\n",
       "      <td>14.358</td>\n",
       "    </tr>\n",
       "    <tr>\n",
       "      <th>1</th>\n",
       "      <td>9.41860</td>\n",
       "      <td>-11.6420</td>\n",
       "      <td>-15.6960</td>\n",
       "      <td>0.59740</td>\n",
       "      <td>-0.74109</td>\n",
       "      <td>-0.38114</td>\n",
       "      <td>20.622</td>\n",
       "      <td>-169.750</td>\n",
       "      <td>34.618</td>\n",
       "    </tr>\n",
       "    <tr>\n",
       "      <th>2</th>\n",
       "      <td>19.52100</td>\n",
       "      <td>-6.9617</td>\n",
       "      <td>-12.0070</td>\n",
       "      <td>0.59740</td>\n",
       "      <td>-0.74109</td>\n",
       "      <td>-0.38114</td>\n",
       "      <td>-72.995</td>\n",
       "      <td>40.179</td>\n",
       "      <td>44.492</td>\n",
       "    </tr>\n",
       "    <tr>\n",
       "      <th>3</th>\n",
       "      <td>-2.53520</td>\n",
       "      <td>-9.3031</td>\n",
       "      <td>-1.5947</td>\n",
       "      <td>0.51763</td>\n",
       "      <td>-0.78612</td>\n",
       "      <td>-0.42436</td>\n",
       "      <td>-121.060</td>\n",
       "      <td>27.449</td>\n",
       "      <td>70.256</td>\n",
       "    </tr>\n",
       "    <tr>\n",
       "      <th>4</th>\n",
       "      <td>0.75023</td>\n",
       "      <td>-19.1470</td>\n",
       "      <td>11.9980</td>\n",
       "      <td>0.51763</td>\n",
       "      <td>-0.78612</td>\n",
       "      <td>-0.42436</td>\n",
       "      <td>-135.990</td>\n",
       "      <td>-145.800</td>\n",
       "      <td>68.536</td>\n",
       "    </tr>\n",
       "  </tbody>\n",
       "</table>\n",
       "</div>"
      ],
      "text/plain": [
       "   acc_lankle_x  acc_lankle_y  acc_lankle_z  gyro_lankle_x  gyro_lankle_y  \\\n",
       "0      -3.95080      -19.1540       12.2940        0.59740       -0.74109   \n",
       "1       9.41860      -11.6420      -15.6960        0.59740       -0.74109   \n",
       "2      19.52100       -6.9617      -12.0070        0.59740       -0.74109   \n",
       "3      -2.53520       -9.3031       -1.5947        0.51763       -0.78612   \n",
       "4       0.75023      -19.1470       11.9980        0.51763       -0.78612   \n",
       "\n",
       "   gyro_lankle_z  mag_lankle_x  mag_lankle_y  mag_lankle_z  \n",
       "0       -0.38114       118.880       -71.831        14.358  \n",
       "1       -0.38114        20.622      -169.750        34.618  \n",
       "2       -0.38114       -72.995        40.179        44.492  \n",
       "3       -0.42436      -121.060        27.449        70.256  \n",
       "4       -0.42436      -135.990      -145.800        68.536  "
      ]
     },
     "execution_count": 2,
     "metadata": {},
     "output_type": "execute_result"
    }
   ],
   "source": [
    "features = ['acc_chest_x', 'acc_chest_y', 'acc_chest_z', 'ecd_chest_1', 'ecd_chest_2',\n",
    "            'acc_lankle_x', 'acc_lankle_y', 'acc_lankle_z', 'gyro_lankle_x', 'gyro_lankle_y', 'gyro_lankle_z', 'mag_lankle_x', 'mag_lankle_y', 'mag_lankle_z',\n",
    "            'acc_rlarm_x', 'acc_rlarm_y', 'acc_rlarm_z', 'gyro_rlarm_x', 'gyro_rlarm_y', 'gyro_rlarm_z', 'mag_rlarm_x', 'mag_rlarm_y', 'mag_rlarm_z',\n",
    "            'label']\n",
    "\n",
    "\n",
    "class MHealthDataset:\n",
    "    def __init__(self, data_path, activities=None, train_rate=0.5, nb_views=5):\n",
    "        self.data_path = data_path\n",
    "        self.nb_views = nb_views\n",
    "        self.features = features\n",
    "        self.train_rate = train_rate\n",
    "        self.activities = activities\n",
    "\n",
    "    def load_data(self):\n",
    "        p_paths = sorted(glob.glob(self.data_path+\"/*.log\"))\n",
    "        p_dfs = [pd.read_csv(p_path, delimiter='\\t', names=self.features, header=None) for p_path in p_paths]\n",
    "        aps_dfs = {}\n",
    "        min_length = 100000\n",
    "        for p, p_df in enumerate(p_dfs):\n",
    "            tmp_dfs = [group[1] for group in p_df.groupby('label') if group[0] in self.activities]\n",
    "            for act in self.activities:\n",
    "                key = f\"a{act:02d}_p{p+1}\"\n",
    "                aps_dfs[key] = tmp_dfs[act-1]\n",
    "                min_length = min(min_length, aps_dfs[key].shape[0])\n",
    "        train_ap_dfs = {}\n",
    "        test_ap_dfs = {}\n",
    "        # train_split = int(min_length*self.train_rate)\n",
    "        train_split = 2096\n",
    "        for key, ap_df in aps_dfs.items():\n",
    "            # train_ap_dfs[key] = aps_dfs[key][:train_split].reset_index().drop(columns=['index'])\n",
    "            # test_ap_dfs[key] = aps_dfs[key][train_split:train_split+train_split].reset_index().drop(columns=['index'])\n",
    "            train_ap_dfs[key] = aps_dfs[key][:train_split].reset_index().drop(columns=['index'])\n",
    "            test_ap_dfs[key] = aps_dfs[key][:train_split].reset_index().drop(columns=['index'])\n",
    "        return train_ap_dfs, test_ap_dfs\n",
    "\n",
    "    def split_views(self, ap_dfs):\n",
    "        views = {}\n",
    "        for v, part in enumerate(['chest', 'lankle', 'rlarm']):\n",
    "            view_features = [feat for feat in self.features if part in feat]\n",
    "            views[f'view_{v+1}'] = {key: df[view_features]\n",
    "                                    for key, df in ap_dfs.items()}\n",
    "        return views\n",
    "\n",
    "data_path = '../raw_datasets/mhealth'\n",
    "activities = list(range(1, 11+1))\n",
    "clusters = [f\"a{act:02d}\" for act in activities]\n",
    "dataset = MHealthDataset(data_path, activities=activities)\n",
    "train_ap_dfs, test_ap_dfs = dataset.load_data()\n",
    "train_views_dfs = dataset.split_views(train_ap_dfs)\n",
    "test_views_dfs = dataset.split_views(test_ap_dfs)\n",
    "train_views_dfs['view_2']['a11_p1'].head()"
   ]
  },
  {
   "cell_type": "code",
   "execution_count": 3,
   "metadata": {},
   "outputs": [
    {
     "data": {
      "text/plain": [
       "(2096, 9)"
      ]
     },
     "execution_count": 3,
     "metadata": {},
     "output_type": "execute_result"
    }
   ],
   "source": [
    "train_views_dfs['view_2']['a11_p1'].shape"
   ]
  },
  {
   "cell_type": "code",
   "execution_count": 4,
   "metadata": {},
   "outputs": [],
   "source": [
    "stored_dir = '../preprocessed_datasets/mhealth'\n",
    "# Train dataset\n",
    "for view, view_dfs in train_views_dfs.items():\n",
    "    view_path = stored_dir+f\"/raw/{view}\"\n",
    "    if not os.path.exists(view_path):\n",
    "        os.makedirs(view_path)\n",
    "    for ap, df in view_dfs.items():\n",
    "        for col in df.columns:\n",
    "            path = f\"{view_path}/{col}\"\n",
    "            os.makedirs(path, exist_ok=True)\n",
    "            df[col].to_csv(f\"{path}/{ap}.csv\", header=[col])"
   ]
  },
  {
   "cell_type": "code",
   "execution_count": null,
   "metadata": {},
   "outputs": [
    {
     "name": "stdout",
     "output_type": "stream",
     "text": [
      "Generating anomalies by replacing one subsequence...\n"
     ]
    },
    {
     "name": "stderr",
     "output_type": "stream",
     "text": [
      "100%|██████████| 110/110 [00:00<00:00, 3495.54it/s]"
     ]
    },
    {
     "name": "stdout",
     "output_type": "stream",
     "text": [
      "Saving files...\n"
     ]
    },
    {
     "name": "stderr",
     "output_type": "stream",
     "text": [
      "\n"
     ]
    },
    {
     "name": "stdout",
     "output_type": "stream",
     "text": [
      "Done.\n",
      "Generating anomalies by replacing one subsequence...\n"
     ]
    },
    {
     "name": "stderr",
     "output_type": "stream",
     "text": [
      "100%|██████████| 110/110 [00:00<00:00, 3899.77it/s]"
     ]
    },
    {
     "name": "stdout",
     "output_type": "stream",
     "text": [
      "Saving files...\n"
     ]
    },
    {
     "name": "stderr",
     "output_type": "stream",
     "text": [
      "\n"
     ]
    },
    {
     "name": "stdout",
     "output_type": "stream",
     "text": [
      "Done.\n"
     ]
    }
   ],
   "source": [
    "%run ../src/anomaly_generations.py\n",
    "\n",
    "dataset_name = 'mhealth_timestep_same_subject_random_view'\n",
    "sample = 10\n",
    "nb_views = 3\n",
    "today = datetime.now().strftime(\"%Y%m%d\")\n",
    "for anomaly_rate in [5]:\n",
    "    dir_path = f\"../preprocessed_datasets/datasets_{today}/{dataset_name}/sample{sample}/anomaly_rate_{anomaly_rate}_views_{nb_views}\"\n",
    "    swapped_test_views_dfs, ground_truths = swap_time_steps(copy.deepcopy(\n",
    "        test_views_dfs), clusters=clusters, anomaly_rate=anomaly_rate*0.01)\n",
    "\n",
    "    # Save to files\n",
    "    print(\"Saving files...\")\n",
    "    for view, view_dfs in train_views_dfs.items():\n",
    "        view_path = dir_path+f\"/train/{view}\"\n",
    "        if not os.path.exists(view_path):\n",
    "            os.makedirs(view_path)\n",
    "        for ap, df in view_dfs.items():\n",
    "            if not 'a11' in ap:\n",
    "                df.to_csv(f\"{view_path}/{ap}.csv\", index=False)\n",
    "    for view, view_dfs in swapped_test_views_dfs.items():\n",
    "        view_path = dir_path+f\"/test/{view}\"\n",
    "        if not os.path.exists(view_path):\n",
    "            os.makedirs(view_path)\n",
    "        for ap, df in view_dfs.items():\n",
    "            if not 'a11' in ap:\n",
    "                df.to_csv(f\"{view_path}/{ap}.csv\", index=False)\n",
    "    for ap, gt in ground_truths.items():\n",
    "        if not 'a11' in ap:\n",
    "            gt.to_csv(dir_path+f\"/test/{ap}.csv\", index=False)\n",
    "    print('Done.')\n"
   ]
  }
 ],
 "metadata": {
  "kernelspec": {
   "display_name": "Python 3.8.12 ('mytorch')",
   "language": "python",
   "name": "python3"
  },
  "language_info": {
   "codemirror_mode": {
    "name": "ipython",
    "version": 3
   },
   "file_extension": ".py",
   "mimetype": "text/x-python",
   "name": "python",
   "nbconvert_exporter": "python",
   "pygments_lexer": "ipython3",
   "version": "3.8.13"
  },
  "orig_nbformat": 4,
  "vscode": {
   "interpreter": {
    "hash": "9ee41a881656f5fc4dd86b207feac279397358c077bb0ebe254df13365e193ae"
   }
  }
 },
 "nbformat": 4,
 "nbformat_minor": 2
}
